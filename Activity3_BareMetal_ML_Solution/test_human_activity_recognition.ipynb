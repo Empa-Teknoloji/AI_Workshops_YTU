{
 "cells": [
  {
   "cell_type": "markdown",
   "metadata": {},
   "source": [
    "<p align=\"center\"><img src=\"../additionals/university-workshops-ytu-banner-en.png\" alt=\"University Workshops\" style=\"display: block; margin: 0 auto\" height=/></p>"
   ]
  },
  {
   "cell_type": "markdown",
   "metadata": {},
   "source": [
    "## Welcome to University Workshops!\n",
    "\n",
    "Welcome to Empa Electronics' first University Workshop event, Yıldız Technical University Workshop!  \n",
    "\n",
    "This code script will provide you a test environment for the Human Activity Recognition application. \n",
    "  \n",
    "\n",
    "**Steps in the Test Environment:**\n",
    "\n",
    "1. Requirements\n",
    "\n",
    "2. Import Trained Model\n",
    "\n",
    "3. Read & Predict Samples from Data Stream"
   ]
  },
  {
   "cell_type": "markdown",
   "metadata": {},
   "source": [
    "## 1. Requirements"
   ]
  },
  {
   "cell_type": "markdown",
   "metadata": {},
   "source": [
    "Importing the required modules:"
   ]
  },
  {
   "cell_type": "code",
   "execution_count": null,
   "metadata": {},
   "outputs": [],
   "source": [
    "\n",
    "import tensorflow as tf\n",
    "import serial\n",
    "import numpy as np"
   ]
  },
  {
   "cell_type": "markdown",
   "metadata": {},
   "source": [
    "## 2. Import Trained Models"
   ]
  },
  {
   "cell_type": "markdown",
   "metadata": {},
   "source": [
    "Loading the trained model:"
   ]
  },
  {
   "cell_type": "code",
   "execution_count": null,
   "metadata": {},
   "outputs": [],
   "source": [
    "model = tf.keras.models.load_model(\"../models/model_cnn_workshop_HAR_0_96_v3.h5\")"
   ]
  },
  {
   "cell_type": "markdown",
   "metadata": {},
   "source": [
    "Defining the class mapping dictionary:"
   ]
  },
  {
   "cell_type": "code",
   "execution_count": 8,
   "metadata": {},
   "outputs": [],
   "source": [
    "# class ID to class name mapping\n",
    "classes = {0: \"STANDING\",\n",
    "           1: \"WALKING\",\n",
    "           2: \"RUNNING\"}"
   ]
  },
  {
   "cell_type": "markdown",
   "metadata": {},
   "source": [
    "## 3. Read & Predict Samples from Data Stream"
   ]
  },
  {
   "cell_type": "markdown",
   "metadata": {},
   "source": [
    "Setting the serial connection configuration:"
   ]
  },
  {
   "cell_type": "code",
   "execution_count": 9,
   "metadata": {},
   "outputs": [],
   "source": [
    "serial_port = '/dev/ttyACM0'\n",
    "baud_rate = 115200\n",
    "time_out = 2"
   ]
  },
  {
   "cell_type": "markdown",
   "metadata": {},
   "source": [
    "Running the data sampling over serial connection & predicting the obtained data sample:"
   ]
  },
  {
   "cell_type": "code",
   "execution_count": null,
   "metadata": {},
   "outputs": [],
   "source": [
    "# collect data, get inference from model\n",
    "while True:\n",
    "    # open the serial port, set baudrate, set timeout\n",
    "    with serial.Serial(serial_port, baud_rate, timeout=time_out) as ser_read:\n",
    "        # read the line from serial port\n",
    "        x = ser_read.readline()\n",
    "        # parse the line into numpy array\n",
    "        line = np.array(str(x).replace(\"b'\", \"\").replace(\"\\\\n'\", \"\").replace(\"\\\\r\", \"\").split(\" \")[:-1])\n",
    "        # ignore the line if the length is not 6*128=768\n",
    "        if len(line) == 768:\n",
    "            # convert the array of strings to array of floating point numbers\n",
    "            line = line.astype(np.float32)\n",
    "            # reshape the array for model\n",
    "            line = line.reshape(128,6)\n",
    "            # add a batch shape to the array\n",
    "            line = np.expand_dims(line, axis=0)\n",
    "            # get the model output\n",
    "            out = model(line)\n",
    "            # model outputs a tensor, convert it to numpy array\n",
    "            out = np.array(out)\n",
    "            # get the highest scoring output as predicted class\n",
    "            class_index = np.argmax(out)\n",
    "            # get the class name from dict\n",
    "            class_name = classes[class_index]\n",
    "            # print the results\n",
    "            print(f\"\\rProbabilities -> Standing: {out[0,0]:.2f} Walking: {out[0,1]:.2f} Running: {out[0,2]:.2f} --- Prediction: {class_name} \",end=\"\")"
   ]
  }
 ],
 "metadata": {
  "kernelspec": {
   "display_name": "my_venv",
   "language": "python",
   "name": "python3"
  },
  "language_info": {
   "codemirror_mode": {
    "name": "ipython",
    "version": 3
   },
   "file_extension": ".py",
   "mimetype": "text/x-python",
   "name": "python",
   "nbconvert_exporter": "python",
   "pygments_lexer": "ipython3",
   "version": "3.10.14"
  }
 },
 "nbformat": 4,
 "nbformat_minor": 2
}
